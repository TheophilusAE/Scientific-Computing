{
  "nbformat": 4,
  "nbformat_minor": 0,
  "metadata": {
    "colab": {
      "provenance": [],
      "authorship_tag": "ABX9TyM3ak06zxIUc6DLZhROrwm3",
      "include_colab_link": true
    },
    "kernelspec": {
      "name": "python3",
      "display_name": "Python 3"
    },
    "language_info": {
      "name": "python"
    }
  },
  "cells": [
    {
      "cell_type": "markdown",
      "metadata": {
        "id": "view-in-github",
        "colab_type": "text"
      },
      "source": [
        "<a href=\"https://colab.research.google.com/github/TheophilusAE/Scientific-Computing/blob/main/2702259986_Theophilus_Alexander_Elvan_INTEGRATION.ipynb\" target=\"_parent\"><img src=\"https://colab.research.google.com/assets/colab-badge.svg\" alt=\"Open In Colab\"/></a>"
      ]
    },
    {
      "cell_type": "code",
      "execution_count": 13,
      "metadata": {
        "id": "6wWeuwOSyX1C"
      },
      "outputs": [],
      "source": [
        "import numpy as np"
      ]
    },
    {
      "cell_type": "code",
      "source": [
        "a = 0\n",
        "b = np.pi\n",
        "n = 11\n",
        "h = (b-a) / (n-1)\n",
        "x = np.linspace(a, b, n)\n",
        "f = np.sin(x)\n",
        "\n",
        "I_riemannL = h * sum(f[:n-1])\n",
        "err_riemannL = 2- I_riemannL\n",
        "\n",
        "I_riemannR = h * sum(f[1::])\n",
        "err_riemannR = 2 - I_riemannR\n",
        "\n",
        "I_mid = h * sum(np.sin((x[:n-1] \\\n",
        "        + x[1:])/2))\n",
        "err_mid = 2 - I_mid\n",
        "\n",
        "print(I_riemannL)\n",
        "print(err_riemannL)\n",
        "\n",
        "print(I_riemannR)\n",
        "print(err_riemannR)\n",
        "\n",
        "print(I_mid)\n",
        "print(err_mid)"
      ],
      "metadata": {
        "colab": {
          "base_uri": "https://localhost:8080/"
        },
        "id": "ISEJ1-aNyhzC",
        "outputId": "86c0bd04-57ab-4d8b-db40-f1ca798b2a26"
      },
      "execution_count": 14,
      "outputs": [
        {
          "output_type": "stream",
          "name": "stdout",
          "text": [
            "1.9835235375094546\n",
            "0.01647646249054535\n",
            "1.9835235375094546\n",
            "0.01647646249054535\n",
            "2.0082484079079745\n",
            "-0.008248407907974542\n"
          ]
        }
      ]
    },
    {
      "cell_type": "markdown",
      "source": [
        "**TRAPEZOID RULE**"
      ],
      "metadata": {
        "id": "pwL7XUuG1Aq3"
      }
    },
    {
      "cell_type": "code",
      "source": [
        "a = 0\n",
        "b = np.pi\n",
        "n = 11\n",
        "h = (b - a) / (n - 1)\n",
        "x = np.linspace(a, b, n)\n",
        "f = np.sin(x)\n",
        "\n",
        "I_trap = (h/2)*(f[0] + \\\n",
        "          2 * sum(f[1:n-1]) + f[n-1])\n",
        "err_trap = 2 - I_trap\n",
        "\n",
        "print(I_trap)\n",
        "print(err_trap)"
      ],
      "metadata": {
        "colab": {
          "base_uri": "https://localhost:8080/"
        },
        "id": "EqcVW6Y51E6q",
        "outputId": "90f81d64-0f80-4c11-8e00-4e58bd787dfb"
      },
      "execution_count": 15,
      "outputs": [
        {
          "output_type": "stream",
          "name": "stdout",
          "text": [
            "1.9835235375094546\n",
            "0.01647646249054535\n"
          ]
        }
      ]
    },
    {
      "cell_type": "code",
      "source": [
        "from scipy.integrate import trapz"
      ],
      "metadata": {
        "id": "HV7BSXDB1KoS"
      },
      "execution_count": 16,
      "outputs": []
    },
    {
      "cell_type": "code",
      "source": [
        "a = 0\n",
        "b = np.pi\n",
        "n = 11\n",
        "h = (b - a) / (n - 1)\n",
        "x = np.linspace(a, b, n)\n",
        "f = np.sin(x)\n",
        "\n",
        "I_trapz = trapz(f,x)\n",
        "I_trap = (h/2) * (f[0] + 2 * sum(f[1:n-1] + f[n-1]))\n",
        "\n",
        "print(I_trapz)\n",
        "print(I_trap)"
      ],
      "metadata": {
        "colab": {
          "base_uri": "https://localhost:8080/"
        },
        "id": "Fnagbqvf1dNV",
        "outputId": "711e4989-ed3c-4ee5-81ef-063923f9d510"
      },
      "execution_count": 17,
      "outputs": [
        {
          "output_type": "stream",
          "name": "stdout",
          "text": [
            "1.9835235375094544\n",
            "1.9835235375094546\n"
          ]
        }
      ]
    },
    {
      "cell_type": "markdown",
      "source": [
        "**Simpson's Rule**"
      ],
      "metadata": {
        "id": "eaXV3ef12SQ6"
      }
    },
    {
      "cell_type": "code",
      "source": [
        "from scipy.integrate import quad\n",
        "\n",
        "I_quad, est_err_quad = \\\n",
        "          quad(np.sin, 0, np.pi)\n",
        "print(I_quad)\n",
        "err_quad = 2 - I_quad\n",
        "print(est_err_quad, err_quad)"
      ],
      "metadata": {
        "colab": {
          "base_uri": "https://localhost:8080/"
        },
        "id": "AibrwkFF2X5O",
        "outputId": "0998da7f-47e6-4099-cf37-ab4318d1fb2c"
      },
      "execution_count": 18,
      "outputs": [
        {
          "output_type": "stream",
          "name": "stdout",
          "text": [
            "2.0\n",
            "2.220446049250313e-14 0.0\n"
          ]
        }
      ]
    },
    {
      "cell_type": "markdown",
      "source": [
        "**Quiz**"
      ],
      "metadata": {
        "id": "iw-raafrBgJC"
      }
    },
    {
      "cell_type": "code",
      "source": [
        "#Eight panels\n",
        "a = 0\n",
        "b = np.pi\n",
        "n = 9\n",
        "h = (b - a) / (n - 1)\n",
        "x = np.linspace(a, b, n)\n",
        "f = np.sin(x)\n",
        "\n",
        "I_trapz = trapz(f,x)\n",
        "I_trap = (h/2) * (f[0] + 2 * sum(f[1:n-1] + f[n-1]))\n",
        "\n",
        "print(I_trapz)\n",
        "print(I_trap)"
      ],
      "metadata": {
        "colab": {
          "base_uri": "https://localhost:8080/"
        },
        "id": "Gd9UuOFhBitW",
        "outputId": "a3ebef3f-258d-4034-e1fe-cb58b843658a"
      },
      "execution_count": 19,
      "outputs": [
        {
          "output_type": "stream",
          "name": "stdout",
          "text": [
            "1.9742316019455508\n",
            "1.974231601945551\n"
          ]
        }
      ]
    },
    {
      "cell_type": "code",
      "source": [
        "#16 Panels\n",
        "a = 0\n",
        "b = np.pi\n",
        "n = 17\n",
        "h = (b - a) / (n - 1)\n",
        "x = np.linspace(a, b, n)\n",
        "f = np.sin(x)\n",
        "\n",
        "I_trapz = trapz(f,x)\n",
        "I_trap = (h/2) * (f[0] + 2 * sum(f[1:n-1] + f[n-1]))\n",
        "\n",
        "print(I_trapz)\n",
        "print(I_trap)"
      ],
      "metadata": {
        "colab": {
          "base_uri": "https://localhost:8080/"
        },
        "id": "i9iPvXVbCK4T",
        "outputId": "781c2bbf-71c1-406f-fba7-a830e5290c30"
      },
      "execution_count": 20,
      "outputs": [
        {
          "output_type": "stream",
          "name": "stdout",
          "text": [
            "1.9935703437723393\n",
            "1.9935703437723395\n"
          ]
        }
      ]
    }
  ]
}